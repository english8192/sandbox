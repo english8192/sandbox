{
 "cells": [
  {
   "cell_type": "code",
   "execution_count": 3,
   "metadata": {},
   "outputs": [
    {
     "name": "stdout",
     "output_type": "stream",
     "text": [
      "defaultdict(<class 'list'>, {'D': [(5, 'D'), (4, 'D'), (12, 'D')], 'H': [(8, 'H'), (11, 'H')], 'S': [(14, 'S'), (8, 'S')]})\n"
     ]
    }
   ],
   "source": [
    "from collections import defaultdict\n",
    "\n",
    "grouped_data = defaultdict(list)\n",
    "\n",
    "data =[(5, 'D'), (8, 'H'), (14, 'S'), (4, 'D'), (8, 'S'), (12, 'D'), (11, 'H')]\n",
    "for item in data:\n",
    "    key = item[1]\n",
    "\n",
    "    grouped_data[key].append(item)\n",
    "\n",
    "print(grouped_data)\n",
    "\n",
    "\n"
   ]
  }
 ],
 "metadata": {
  "kernelspec": {
   "display_name": "Python 3",
   "language": "python",
   "name": "python3"
  },
  "language_info": {
   "codemirror_mode": {
    "name": "ipython",
    "version": 3
   },
   "file_extension": ".py",
   "mimetype": "text/x-python",
   "name": "python",
   "nbconvert_exporter": "python",
   "pygments_lexer": "ipython3",
   "version": "3.12.4"
  }
 },
 "nbformat": 4,
 "nbformat_minor": 2
}
