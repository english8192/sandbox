{
 "cells": [
  {
   "cell_type": "code",
   "execution_count": 4,
   "metadata": {},
   "outputs": [
    {
     "name": "stdout",
     "output_type": "stream",
     "text": [
      "defaultdict(<class 'list'>, {'D': [(5, 'D'), (4, 'D'), (12, 'D')], 'H': [(8, 'H'), (11, 'H')], 'S': [(14, 'S'), (8, 'S')]})\n"
     ]
    }
   ],
   "source": [
    "from collections import defaultdict\n",
    "\n",
    "grouped_data = defaultdict(list)\n",
    "\n",
    "data =[(5, 'D'), (8, 'H'), (14, 'S'), (4, 'D'), (8, 'S'), (12, 'D'), (11, 'H')]\n",
    "for item in data:\n",
    "    key = item[1]\n",
    "\n",
    "    grouped_data[key].append(item)\n",
    "\n",
    "print(grouped_data)\n",
    "\n",
    "\n",
    "\n"
   ]
  },
  {
   "cell_type": "code",
   "execution_count": 5,
   "metadata": {},
   "outputs": [],
   "source": [
    "my_dict = {'name': 'Alice', 'age': 25, 'city': 'New York'}\n",
    "name = my_dict['name']  # 'Alice'\n"
   ]
  },
  {
   "cell_type": "code",
   "execution_count": 6,
   "metadata": {},
   "outputs": [
    {
     "name": "stdout",
     "output_type": "stream",
     "text": [
      "Alice\n"
     ]
    }
   ],
   "source": [
    "print(name)"
   ]
  },
  {
   "cell_type": "code",
   "execution_count": 7,
   "metadata": {},
   "outputs": [
    {
     "name": "stdout",
     "output_type": "stream",
     "text": [
      "10\n"
     ]
    }
   ],
   "source": [
    "grouped_data = {\n",
    "    'hearts': [\n",
    "        (10, 'A'),  # Tuple: (rank, card)\n",
    "        (9, 'K'),\n",
    "        (8, 'Q'),\n",
    "        (7, 'J'),\n",
    "        (6, '10')\n",
    "    ],\n",
    "    'spades': [\n",
    "        (5, '9'),\n",
    "        (4, '8'),\n",
    "        (3, '7'),\n",
    "        (2, '6')\n",
    "    ],\n",
    "    'diamonds': [\n",
    "        (7, 'A'),\n",
    "        (6, 'K'),\n",
    "        (5, 'Q')\n",
    "    ],\n",
    "    'clubs': [\n",
    "        (8, 'J'),\n",
    "        (7, '10'),\n",
    "        (6, '9'),\n",
    "        (5, '8'),\n",
    "        (4, '7')\n",
    "    ]\n",
    "}\n",
    "flush_high_rank=grouped_data[\"hearts\"][0][0] \n",
    "print(flush_high_rank)"
   ]
  },
  {
   "cell_type": "code",
   "execution_count": 8,
   "metadata": {},
   "outputs": [
    {
     "data": {
      "text/plain": [
       "26613.17"
      ]
     },
     "execution_count": 8,
     "metadata": {},
     "output_type": "execute_result"
    }
   ],
   "source": [
    "14125.66+12487.51"
   ]
  },
  {
   "cell_type": "code",
   "execution_count": 17,
   "metadata": {},
   "outputs": [
    {
     "name": "stderr",
     "output_type": "stream",
     "text": [
      "ic| sorted(x,reverse=True): [('TWO PAIR', [14, 7]),\n",
      "                             ('STRAIGHT', [14, 13, 12, 11, 10]),\n",
      "                             ('PAIR', 6),\n",
      "                             ('HIGH CARD', 14),\n",
      "                             ('FLUSH', 'S', [14, 12, 9, 6, 3]),\n",
      "                             ('FLUSH', 'S', [12, 7, 5, 4, 2])]\n"
     ]
    },
    {
     "data": {
      "text/plain": [
       "[('TWO PAIR', [14, 7]),\n",
       " ('STRAIGHT', [14, 13, 12, 11, 10]),\n",
       " ('PAIR', 6),\n",
       " ('HIGH CARD', 14),\n",
       " ('FLUSH', 'S', [14, 12, 9, 6, 3]),\n",
       " ('FLUSH', 'S', [12, 7, 5, 4, 2])]"
      ]
     },
     "execution_count": 17,
     "metadata": {},
     "output_type": "execute_result"
    }
   ],
   "source": [
    "from icecream import ic\n",
    "x= [\n",
    "  ('PAIR', 6), \n",
    "  ('HIGH CARD', 14),\n",
    "  ('TWO PAIR', [14, 7]),\n",
    "  ('STRAIGHT', [14, 13, 12, 11, 10]),\n",
    "  ('FLUSH', 'S', [14, 12, 9, 6, 3]),\n",
    "  ('FLUSH', 'S', [12, 7, 5, 4, 2])\n",
    "\n",
    " ]\n",
    "ic(sorted(x,reverse=True))"
   ]
  },
  {
   "cell_type": "code",
   "execution_count": null,
   "metadata": {},
   "outputs": [],
   "source": []
  }
 ],
 "metadata": {
  "kernelspec": {
   "display_name": "Python 3",
   "language": "python",
   "name": "python3"
  },
  "language_info": {
   "codemirror_mode": {
    "name": "ipython",
    "version": 3
   },
   "file_extension": ".py",
   "mimetype": "text/x-python",
   "name": "python",
   "nbconvert_exporter": "python",
   "pygments_lexer": "ipython3",
   "version": "3.12.4"
  }
 },
 "nbformat": 4,
 "nbformat_minor": 2
}
